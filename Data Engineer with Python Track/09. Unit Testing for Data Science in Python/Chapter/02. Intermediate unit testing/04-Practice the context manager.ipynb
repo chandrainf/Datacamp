'''
Practice the context manager


In pytest, you can test whether a function raises an exception by using a context manager. Let's practice your understanding of this important context manager, the with statement and the as clause.

At any step, feel free to run the code by pressing the "Run Code" button and check if the output matches your expectations.

Instructions 1/4
25 XP

- Complete the with statement by filling in with a context manager that will silence the ValueError raised in the context.

'''
import pytest

# Fill in with a context manager that will silence the ValueError
with pytest.raises(ValueError):
    raise ValueError







'''
Instructions 2/4
25 XP

- Complete the with statement with a context manager that raises Failed if no OSError is raised in the context.

'''
import pytest
try:
    # Fill in with a context manager that raises Failed if no OSError is raised
    with pytest.raises(OSError):
        raise ValueError
except:
    print("pytest raised an exception because no OSError was raised in the context.")







'''
Instructions 3/4
25 XP

- Extend the with statement so that any raised ValueError is stored in the variable exc_info.

'''
import pytest

# Store the raised ValueError in the variable exc_info
with pytest.raises(ValueError) as exc_info:
    raise ValueError("Silence me!")







'''
Instructions 4/4
25 XP

- Write an assert statement to check if the raised ValueError contains the message "Silence me!".

'''

import pytest
with pytest.raises(ValueError) as exc_info:
    raise ValueError("Silence me!")
# Check if the raised ValueError contains the correct message
assert exc_info.match("Silence me!")
