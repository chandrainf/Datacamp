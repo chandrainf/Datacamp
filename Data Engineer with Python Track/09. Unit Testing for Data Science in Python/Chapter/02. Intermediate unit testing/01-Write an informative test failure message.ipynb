'''
Write an informative test failure message


The test result reports become a lot easier to read when you make good use of the optional message argument of the assert statement.

In a previous exercise, you wrote a test for the convert_to_int() function. The function takes an integer valued string with commas as thousand separators e.g. "2,081" as argument and should return the integer 2081.

In this exercise, you will rewrite the test called test_on_string_with_one_comma() so that it prints an informative message if the test fails.

Instructions 1/3
35 XP

- Format the message string so that it shows the actual return value.

'''
import pytest
from preprocessing_helpers import convert_to_int

def test_on_string_with_one_comma():
    test_argument = "2,081"
    expected = 2081
    actual = convert_to_int(test_argument)
    # Format the string with the actual return value
    message = "convert_to_int('2,081') should return the int 2081, but it actually returned {0}".format(
        actual)






'''
Instructions 2/3
35 XP

- Write the assert statement that checks if actual is equal to expected and prints the message message if they are not equal.

'''
import pytest
def test_on_string_with_one_comma():
    test_argument = "2,081"
    expected = 2081
    actual = convert_to_int(test_argument)
    # Format the string with the actual return value
    message = "convert_to_int('2,081') should return the int 2081, but it actually returned {0}".format(
        actual)
    # Write the assert statement which prints message on failurev
    assert (actual == expected), message








'''
Instructions 3/3
30 XP

Question

- The test that you wrote was written to a test module called test_convert_to_int.py. Run the test in the IPython console and read the test result report.

Which of the following is true?

Possible Answers :

    - The test passes.

    - The test fails because convert_to_int("2,081") returns the string "2081" and not the integer 2081.

    - The test fails because convert_to_int("2,081") returns None and not the integer 2081.

    - The test fails because of a SyntaxError in the test code.

Answer : The test fails because convert_to_int("2,081") returns None and not the integer 2081.

'''
