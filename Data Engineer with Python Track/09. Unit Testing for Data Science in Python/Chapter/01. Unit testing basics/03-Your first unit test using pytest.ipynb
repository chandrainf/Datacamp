'''
Your first unit test using pytest


The data file containing housing area and prices uses commas as thousands separators, e.g. "2,081" or "314,942", as you can see in the IPython Shell.

The convert_to_int() function takes a comma separated integer string as argument, and returns the integer. Therefore, the expected return value of convert_to_int("2,081") is the integer 2081.

This function is defined in the module preprocessing_helpers.py. But it is not known if the function is working properly.

Instructions 1/4
25 XP

- Import the pytest package.

'''
# Import the pytest package
import pytest


'''
Instructions 2/4
25 XP

- Import the function convert_to_int().

'''
# Import the pytest package
import pytest

# Import convert_to_int() from the module preprocessing_helpers.py
from preprocessing_helpers import convert_to_int

'''
Instructions 3/4
25 XP

- Complete the name of the unit test by adding the prefix which pytest uses to distinguish unit tests from ordinary functions.

'''
# Import the pytest package
import pytest

# Import the function convert_to_int()
from preprocessing_helpers import convert_to_int

# Complete the unit test name by adding a prefix
def test_on_string_with_one_comma():
  pass


'''
Instructions 4/4
25 XP

- Complete the assert statement to check if convert_to_int() returns the expected value for the argument "2,081".

'''
# Import the pytest package
import pytest

# Import the function convert_to_int()
from preprocessing_helpers import convert_to_int

# Complete the unit test name by adding a prefix
def test_on_string_with_one_comma():
  # Complete the assert statement
