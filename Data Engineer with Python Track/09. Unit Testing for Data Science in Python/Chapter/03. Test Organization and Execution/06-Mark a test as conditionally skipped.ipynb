'''
Mark a test as conditionally skipped


In Python 2, there was a built-in function called xrange(). In Python 3, xrange() was removed. Therefore, if any test uses xrange(), it's going to fail with a NameError in Python 3.

Remember the function get_data_as_numpy_array()? You saw it in Chapter 2. It converted data in a preprocessed data file into a NumPy array.

range() has been deliberately replaced with the obsolete xrange() in the function. Evil laughter! But no worries, it will be changed back after you're done with this exercise.

You wrote a test called test_on_clean_file() for this function. This test currently resides in a test class TestGetDataAsNumpyArray inside the test module features/test_as_numpy.py.

pytest, numpy as np and get_data_as_numpy_array() has been imported for you.

Instructions 1/4
25 XP
Question

Run the tests in the test class TestGetDataAsNumpyArray in the IPython console. What is the outcome?

Possible Answers :

    -The test test_on_clean_file() fails with a NameError because Python 3 does not recognize the xrange() function.

    -The test test_on_clean_file() passes.

    -The test test_on_clean_file() fails with an AssertionError.

Answer : The test test_on_clean_file() fails with a NameError because Python 3 does not recognize the xrange() function.

'''





'''
Instructions 2/4
25 XP

-Import the sys module.

'''
# Import the sys module
import sys

'''






Instructions 3/4
25 XP

-Mark the test test_on_clean_file() as skipped if the Python version is greater than 2.7.

'''
import sys
class TestGetDataAsNumpyArray(object):
    # Add a reason for skipping the test
    @pytest.mark.skipif(sys.version_info > (2, 7), _reason="Works only on Python 2.7 or lower")
    def test_on_clean_file(self):
        expected = np.array([[2081.0, 314942.0],
                             [1059.0, 186606.0],
                             [1148.0, 206186.0]
                             ]
                            )
        actual = get_data_as_numpy_array(
            "example_clean_data.txt", num_columns=2)
        message = "Expected return value: {0}, Actual return value: {1}".format(
            expected, actual)
        assert actual == pytest.approx(expected), message



'''
Instructions 4/4
25 XP

Add the following reason for skipping the test: "Works only on Python 2.7 or lower".
'''

import sys

class TestGetDataAsNumpyArray(object):
    # Add a reason for skipping the test
    @pytest.mark.skipif(sys.version_info > (2, 7), _reason="Works only on Python 2.7 or lower")
    def test_on_clean_file(self):
        expected = np.array([[2081.0, 314942.0],
                             [1059.0, 186606.0],
                             [1148.0, 206186.0]
                             ]
                            )
        actual = get_data_as_numpy_array(
            "example_clean_data.txt", num_columns=2)
        message = "Expected return value: {0}, Actual return value: {1}".format(
            expected, actual)
        assert actual == pytest.approx(expected), message
