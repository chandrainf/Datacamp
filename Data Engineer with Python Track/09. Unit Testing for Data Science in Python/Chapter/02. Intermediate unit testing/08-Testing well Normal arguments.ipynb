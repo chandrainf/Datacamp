'''
Testing well: Normal arguments


This time, you will test row_to_list() with normal arguments i.e. arguments mapping to the tuple (1, 0). The plot is provided to you for reference.

Remembering that the best practice is to test for two to three normal arguments, you will write two tests in this exercise.

Instructions 1/4
25 XP

Question :

How many normal arguments is it recommended to test?

Possible Answers

    - One.

    - At least two or three.

    - None.

Answer : At least two or three.

'''






'''
Instructions 2/4
25 XP

Assign the variable expected to the expected return value for the normal argument "123\t4,567\n".

'''
import pytest
from preprocessing_helpers import row_to_list
def test_on_normal_argument_1():
    actual = row_to_list("123\t4,567\n")
    # Fill in with the expected return value for the argument "123\t4,567\n"
    expected = ["123", "4,567"]
    assert actual == expected, "Expected: {0}, Actual: {1}".format(
        expected, actual)







'''
Instructions 3/4
25 XP

Complete the correct assert statement for test_on_normal_argument_2(), making sure to format the failure message appropriately.

'''
import pytest
from preprocessing_helpers import row_to_list
def test_on_normal_argument_1():
    actual = row_to_list("123\t4,567\n")
    # Fill in with the expected return value for the argument "123\t4,567\n"
    expected = ["123", "4,567"]
    assert actual == expected, "Expected: {0}, Actual: {1}".format(
        expected, actual)


def test_on_normal_argument_2():
    actual = row_to_list("1,059\t186,606\n")
    expected = ["1,059", "186,606"]
    # Write the assert statement along with a failure message
    assert actual == expected, "Expected: {0}, Actual: {1}".format(
        actual, expected)






'''
Instructions 4/4
25 XP

Question :

The tests for boundary values, values triggering special behavior and normal arguments have been written to a test module test_row_to_list.py. Run the tests in the IPython shell. Which bugs does the function have?

Possible Answers : 

    - The function does not have any bugs.

    - The function returns ["", "4,567"] for the boundary value "\t4,567\n" instead of None.

    - The function raises a SyntaxError for the special value "\n" instead of returning None.

    - The function returns None for the normal argument "123\t4,567\n" instead of returning a list.

Answer : The function does not have any bugs.

'''
