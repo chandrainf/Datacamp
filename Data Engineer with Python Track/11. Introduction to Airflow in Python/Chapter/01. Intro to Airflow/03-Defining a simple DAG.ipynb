'''
Defining a simple DAG


You've spent some time reviewing the Airflow components and are interested in testing out your own workflows. To start you decide to define the default arguments and create a DAG object for your workflow.

The DateTime object has been imported for you.

Instructions 1/3
35 XP

- Import the Airflow DAG object. Note that it is case-sensitive.

'''
# Import the DAG object
from airflow.models import DAG







'''
Instructions 2/3
35 XP

- Define the default_args dictionary with a key owner and a value of 'dsmith'.
- Add a start_date of January 14, 2020 to default_args using the value 1 for the month of January.
- Add a retries count of 2 to default_args.

'''
# Import the DAG object
from airflow.models import DAG

# Define the default_args dictionary
default_args = {
    'owner': 'dsmith',
    'start_date': datetime(2020, 1, 14),
    'retries': 2
}






'''
Instructions 3/3
30 XP

- Instantiate the DAG object to a variable called etl_dag with a DAG named example_etl.
- Add the default_args dictionary to the appropriate argument.

'''
# Import the DAG object
from airflow.models import DAG
# Define the default_args dictionary
default_args = {
    'owner': 'dsmith',
    'start_date': datetime(2020, 1, 14),
    'retries': 2
}

# Instantiate the DAG object
etl_dag = DAG('example_etl', default_args=default_args)
